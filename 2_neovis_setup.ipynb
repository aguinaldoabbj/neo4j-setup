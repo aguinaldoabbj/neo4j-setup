{
 "cells": [
  {
   "cell_type": "code",
   "execution_count": 11,
   "id": "ambient-relation",
   "metadata": {},
   "outputs": [],
   "source": [
    "#binding to kubernetes infrastructure\n",
    "import pykube, json, yaml, ast, time\n",
    "kubeapi = pykube.HTTPClient(pykube.KubeConfig.from_file(\"kubeconfs/k3s.yaml\"))"
   ]
  },
  {
   "cell_type": "code",
   "execution_count": 4,
   "id": "baking-finder",
   "metadata": {},
   "outputs": [],
   "source": [
    "#importing base container specs\n",
    "with open('kubeconfs/neo4j_vis.yaml', \"r\") as file:\n",
    "    neo4j_vis_specs = list(yaml.safe_load_all(file))\n",
    "file.close()"
   ]
  },
  {
   "cell_type": "code",
   "execution_count": 6,
   "id": "military-wedding",
   "metadata": {},
   "outputs": [],
   "source": [
    "#matching namespace of Neo4j\n",
    "%store -r namespace_name\n",
    "for i in range(0,len(neo4j_vis_specs)):\n",
    "    neo4j_vis_specs[i]['metadata']['namespace'] = namespace_name"
   ]
  },
  {
   "cell_type": "code",
   "execution_count": 9,
   "id": "beginning-alignment",
   "metadata": {},
   "outputs": [],
   "source": [
    "#creating deploy\n",
    "if not (pykube.Deployment(kubeapi,neo4j_vis_specs[0]).exists()): pykube.Deployment(kubeapi,neo4j_vis_specs[0]).create()\n",
    "if not (pykube.Service(kubeapi,neo4j_vis_specs[1]).exists()): pykube.Service(kubeapi,neo4j_vis_specs[1]).create()"
   ]
  },
  {
   "cell_type": "code",
   "execution_count": 16,
   "id": "bronze-naples",
   "metadata": {},
   "outputs": [],
   "source": [
    "#getting neo4j pod object\n",
    "time.sleep(5)\n",
    "for pod in pykube.Pod.objects(kubeapi).filter(namespace=namespace_name):\n",
    "    if pod.metadata['name'].find('neovis') != -1:\n",
    "        neo4j_vis_pod = pod"
   ]
  },
  {
   "cell_type": "code",
   "execution_count": 18,
   "id": "regulated-begin",
   "metadata": {},
   "outputs": [],
   "source": [
    "#geting pod IP if pod is ready\n",
    "while not (neo4j_vis_pod.ready):\n",
    "    time.sleep(5)\n",
    "    neo4j_vis_pod.reload() #reload pod object (it changes while pod gets ready)\n",
    "neo4j_vis_pod_ip = neo4j_vis_pod.obj['status']['podIP']"
   ]
  },
  {
   "cell_type": "code",
   "execution_count": 20,
   "id": "chubby-passion",
   "metadata": {},
   "outputs": [
    {
     "name": "stdout",
     "output_type": "stream",
     "text": [
      "Stored 'neo4j_vis_pod_ip' (str)\n"
     ]
    }
   ],
   "source": [
    "%store neo4j_vis_pod_ip"
   ]
  }
 ],
 "metadata": {
  "kernelspec": {
   "display_name": "Python 3",
   "language": "python",
   "name": "python3"
  },
  "language_info": {
   "codemirror_mode": {
    "name": "ipython",
    "version": 3
   },
   "file_extension": ".py",
   "mimetype": "text/x-python",
   "name": "python",
   "nbconvert_exporter": "python",
   "pygments_lexer": "ipython3",
   "version": "3.8.8"
  }
 },
 "nbformat": 4,
 "nbformat_minor": 5
}
