{
 "cells": [
  {
   "cell_type": "code",
   "execution_count": 1,
   "metadata": {},
   "outputs": [
    {
     "name": "stdout",
     "output_type": "stream",
     "text": [
      "Requirement already satisfied: pykube-ng in /opt/conda/lib/python3.8/site-packages (20.10.0)\n",
      "Requirement already satisfied: pyyaml in /opt/conda/lib/python3.8/site-packages (from pykube-ng) (5.4.1)\n",
      "Requirement already satisfied: requests>=2.12 in /opt/conda/lib/python3.8/site-packages (from pykube-ng) (2.25.1)\n",
      "Requirement already satisfied: idna<3,>=2.5 in /opt/conda/lib/python3.8/site-packages (from requests>=2.12->pykube-ng) (2.10)\n",
      "Requirement already satisfied: chardet<5,>=3.0.2 in /opt/conda/lib/python3.8/site-packages (from requests>=2.12->pykube-ng) (4.0.0)\n",
      "Requirement already satisfied: urllib3<1.27,>=1.21.1 in /opt/conda/lib/python3.8/site-packages (from requests>=2.12->pykube-ng) (1.26.3)\n",
      "Requirement already satisfied: certifi>=2017.4.17 in /opt/conda/lib/python3.8/site-packages (from requests>=2.12->pykube-ng) (2020.12.5)\n",
      "Requirement already satisfied: pyaml in /opt/conda/lib/python3.8/site-packages (20.4.0)\n",
      "Requirement already satisfied: PyYAML in /opt/conda/lib/python3.8/site-packages (from pyaml) (5.4.1)\n"
     ]
    }
   ],
   "source": [
    "%run 0_installs.ipynb"
   ]
  },
  {
   "cell_type": "code",
   "execution_count": 2,
   "metadata": {},
   "outputs": [],
   "source": [
    "import os, uuid, time, yaml"
   ]
  },
  {
   "cell_type": "code",
   "execution_count": 3,
   "metadata": {},
   "outputs": [],
   "source": [
    "#binding to kubernetes infrastructure\n",
    "import pykube, json, yaml, ast\n",
    "ipynb_path = os.path.dirname(os.path.realpath(\"__file__\"))\n",
    "kubeconfs_path = ipynb_path+\"/kubeconfs\"\n",
    "kubeapi = pykube.HTTPClient(pykube.KubeConfig.from_file(kubeconfs_path+'/k3s.yaml'))"
   ]
  },
  {
   "cell_type": "code",
   "execution_count": 4,
   "metadata": {},
   "outputs": [
    {
     "name": "stdout",
     "output_type": "stream",
     "text": [
      "Stored 'namespace_name' (str)\n"
     ]
    }
   ],
   "source": [
    "# Let's create a namespace for the user\n",
    "# importing base namespace specs\n",
    "with open(kubeconfs_path+'/user_namespace.yaml', \"r\") as file:\n",
    "    user_namespace = yaml.safe_load(file)\n",
    "file.close()\n",
    "# create namespace according to JUPYTERHUB_USER\n",
    "namespace_name = os.environ['JUPYTERHUB_USER']\n",
    "%store namespace_name\n",
    "user_namespace['metadata']['name'] = namespace_name\n",
    "\n",
    "#create namespace if not exists\n",
    "if not (pykube.Namespace(kubeapi,user_namespace).exists()): pykube.Namespace(kubeapi,user_namespace).create()"
   ]
  },
  {
   "cell_type": "code",
   "execution_count": 5,
   "metadata": {},
   "outputs": [],
   "source": [
    "#importing base container specs\n",
    "with open(kubeconfs_path+'/neo4j.yaml', \"r\") as file:\n",
    "    neo4j_specs = list(yaml.safe_load_all(file))\n",
    "file.close()"
   ]
  },
  {
   "cell_type": "code",
   "execution_count": 6,
   "metadata": {},
   "outputs": [],
   "source": [
    "for i in range(0,len(neo4j_specs)):\n",
    "    neo4j_specs[i]['metadata']['namespace'] = namespace_name\n",
    "\n",
    "#creating deploy\n",
    "if not (pykube.Deployment(kubeapi,neo4j_specs[0]).exists()): pykube.Deployment(kubeapi,neo4j_specs[0]).create()\n",
    "if not (pykube.PersistentVolumeClaim(kubeapi,neo4j_specs[1]).exists()): pykube.PersistentVolumeClaim(kubeapi,neo4j_specs[1]).create()\n",
    "if not (pykube.Service(kubeapi,neo4j_specs[2]).exists()): pykube.Service(kubeapi,neo4j_specs[2]).create()"
   ]
  },
  {
   "cell_type": "code",
   "execution_count": 7,
   "metadata": {},
   "outputs": [
    {
     "data": {
      "text/plain": [
       "True"
      ]
     },
     "execution_count": 7,
     "metadata": {},
     "output_type": "execute_result"
    }
   ],
   "source": [
    "pykube.Deployment(kubeapi,neo4j_specs[0]).exists()"
   ]
  },
  {
   "cell_type": "code",
   "execution_count": 8,
   "metadata": {},
   "outputs": [],
   "source": [
    "#deleting deploy\n",
    "# pykube.Deployment(kubeapi,neo4j_specs[0]).delete()\n",
    "# pykube.PersistentVolumeClaim(kubeapi,neo4j_specs[1]).delete()\n",
    "# pykube.Service(kubeapi,neo4j_specs[2]).delete()"
   ]
  },
  {
   "cell_type": "code",
   "execution_count": 9,
   "metadata": {},
   "outputs": [],
   "source": [
    "#getting neo4j pod object\n",
    "time.sleep(10)\n",
    "for pod in pykube.Pod.objects(kubeapi).filter(namespace=namespace_name):\n",
    "    if pod.metadata['name'].find('neo4j') != -1:\n",
    "        neo4j_pod = pod"
   ]
  },
  {
   "cell_type": "code",
   "execution_count": 10,
   "metadata": {},
   "outputs": [],
   "source": [
    "#geting pod IP if pod is ready\n",
    "while not (neo4j_pod.ready):\n",
    "    time.sleep(5)\n",
    "    neo4j_pod.reload() #reload pod object (it changes while pod gets ready)\n",
    "neo4j_pod_ip = neo4j_pod.obj['status']['podIP']"
   ]
  },
  {
   "cell_type": "code",
   "execution_count": 11,
   "metadata": {},
   "outputs": [
    {
     "data": {
      "text/plain": [
       "'10.42.0.108'"
      ]
     },
     "execution_count": 11,
     "metadata": {},
     "output_type": "execute_result"
    }
   ],
   "source": [
    "neo4j_pod_ip"
   ]
  },
  {
   "cell_type": "code",
   "execution_count": 12,
   "metadata": {},
   "outputs": [
    {
     "name": "stdout",
     "output_type": "stream",
     "text": [
      "Stored 'neo4j_pod_ip' (str)\n"
     ]
    }
   ],
   "source": [
    "%store neo4j_pod_ip"
   ]
  },
  {
   "cell_type": "code",
   "execution_count": 13,
   "metadata": {},
   "outputs": [
    {
     "name": "stdout",
     "output_type": "stream",
     "text": [
      "Stored 'neo4j_vis_pod_ip' (str)\n"
     ]
    }
   ],
   "source": [
    "%run 2_neovis_setup.ipynb"
   ]
  },
  {
   "cell_type": "code",
   "execution_count": 14,
   "metadata": {},
   "outputs": [],
   "source": [
    "#pykube.Namespace(kubeapi,user_namespace).delete()"
   ]
  },
  {
   "cell_type": "code",
   "execution_count": null,
   "metadata": {},
   "outputs": [],
   "source": []
  }
 ],
 "metadata": {
  "kernelspec": {
   "display_name": "Python 3",
   "language": "python",
   "name": "python3"
  },
  "language_info": {
   "codemirror_mode": {
    "name": "ipython",
    "version": 3
   },
   "file_extension": ".py",
   "mimetype": "text/x-python",
   "name": "python",
   "nbconvert_exporter": "python",
   "pygments_lexer": "ipython3",
   "version": "3.8.8"
  }
 },
 "nbformat": 4,
 "nbformat_minor": 4
}
